{
 "cells": [
  {
   "cell_type": "markdown",
   "metadata": {},
   "source": [
    "PROGRAM: ALLERGY CHECK\n",
    "- get user input for categories of food eaten in the last 24 hours\n",
    "    save in a variable called input_test\n",
    "- print True if \"dairy\" is in the input_test string\n",
    "    Test the code so far\n",
    "- modify the print statement to output similar to below\n",
    "    example output01 02 Allergy output\n",
    "    Test the code so far trying input including the string \"dairy\" and without\n",
    "- repeat the process checking the input for \"nuts\", challenge add \"Seafood\" and \"chocolate\"\n",
    "    Test your code\n",
    "- challenge: make your code work for input regardless of case, e.g. - print True for \"Nuts\", \"NuTs\", \"NUTS\" or \"nuts\"\n"
   ]
  },
  {
   "cell_type": "code",
   "execution_count": null,
   "metadata": {},
   "outputs": [],
   "source": [
    "# Create Allergy check code\n",
    "# then PASTE THIS CODE into edX\n",
    "\n",
    "# [ ] get input for input_test variable\n",
    "input_test = input(\"enter somethings eaten in last 24 hrs:\")\n",
    "\n",
    "# [ ] print \"True\" message if \"dairy\" is in the input or False message if not\n",
    "print(\"It is\",\"dairy\" in input_test.lower(),\"that\",'\"'+input_test+'\"','contains \"dairy\"')\n",
    "\n",
    "# [ ] print True message if \"nuts\" is in the input or False if not\n",
    "print(\"It is\",\"nuts\" in input_test.lower(),\"that\",'\"'+input_test+'\"','contains \"nuts\"')\n",
    "\n",
    "# [ ] Challenge: Check if \"seafood\" is in the input - print message\n",
    "print(\"It is\",\"seafood\" in input_test.lower(),\"that\",'\"'+input_test+'\"','contains \"seafood\"')\n",
    "\n",
    "# [ ] Challenge: Check if \"chocolate\" is in the input - print message\n",
    "print(\"It is\",\"chocolate\" in input_test.lower(),\"that\",'\"'+input_test+'\"','contains \"chocolate\"')"
   ]
  },
  {
   "cell_type": "code",
   "execution_count": 3,
   "metadata": {},
   "outputs": [
    {
     "name": "stdout",
     "output_type": "stream",
     "text": [
      "200\n"
     ]
    }
   ],
   "source": [
    "def add_num(num_1 = 10):\n",
    "    return num_1 + num_1\n",
    "print(add_num(100))"
   ]
  },
  {
   "cell_type": "code",
   "execution_count": 5,
   "metadata": {},
   "outputs": [
    {
     "name": "stdout",
     "output_type": "stream",
     "text": [
      "110\n"
     ]
    }
   ],
   "source": [
    "def add_numbers(num_1, num_2 = 10):\n",
    "    return num_1 + num_2\n",
    "print(add_numbers(100))"
   ]
  },
  {
   "cell_type": "code",
   "execution_count": null,
   "metadata": {},
   "outputs": [],
   "source": [
    "def make_greeting(name, greeting = \"Hello\"):\n",
    "    return (greeting + \" \" + name + \"!\")\n",
    "\n",
    "def get_name():\n",
    "    name_entry = input(\"enter a name: \")\n",
    "    return name_entry\n",
    "\n",
    "def get_greeting():\n",
    "    greeting_entry = input(\"enter a greeting: \")\n",
    "    return greeting_entry\n",
    "\n",
    "# get name and greeting, send to make_greeting \n",
    "print(make_greeting(get_name(), get_greeting()))"
   ]
  },
  {
   "cell_type": "markdown",
   "metadata": {},
   "source": [
    "PROGRAM: FISHSTORE()\n",
    "create and test fishstore()\n",
    "\n",
    "- fishstore() takes 2 string arguments: fish & price\n",
    "- fishstore returns a string in sentence form\n",
    "- gather input for fish_entry and price_entry to use in calling fishstore()\n",
    "- print the return value of fishstore()\n",
    "\n",
    "    example of output: Fish Type: Guppy costs $1"
   ]
  },
  {
   "cell_type": "code",
   "execution_count": null,
   "metadata": {},
   "outputs": [],
   "source": [
    "def fishstore(fish, price):\n",
    "    sentence = \"Fish Type: \"+ fish + \" costs $\" + price\n",
    "    return sentence\n",
    "\n",
    "fish_entry = input()\n",
    "price_entry = input()\n",
    "print(fishstore(fish_entry, price_entry))"
   ]
  },
  {
   "cell_type": "markdown",
   "metadata": {},
   "source": [
    "Concept: String Format Methods\n",
    "\n",
    "USING STRING FORMATTING METHODS\n",
    "\n",
    "the following methods can be applied to string objects\n",
    "\n",
    "- .capitalize() - capitalizes the first character of a string\n",
    "\n",
    "- .lower() - all characters of a string are made lowercase\n",
    "\n",
    "- .upper() - all characters of a string are made uppercase\n",
    "\n",
    "- .swapcase() - all characters of a string are made to switch case upper becomes lower and vice versa\n",
    "\n",
    "- .title() - each 'word' separated by a space is capitalized"
   ]
  },
  {
   "cell_type": "code",
   "execution_count": 3,
   "metadata": {},
   "outputs": [
    {
     "name": "stdout",
     "output_type": "stream",
     "text": [
      "2001 is all digits\n"
     ]
    }
   ],
   "source": [
    "year = \"2001\" \n",
    "\n",
    "if year.isdigit():\n",
    "    print(year, \"is all digits\")  \n",
    "else:\n",
    "     pass"
   ]
  },
  {
   "cell_type": "code",
   "execution_count": 5,
   "metadata": {},
   "outputs": [
    {
     "name": "stdout",
     "output_type": "stream",
     "text": [
      "3556 is a new student\n"
     ]
    }
   ],
   "source": [
    "id = 3556\n",
    "\n",
    "if id > 2999:\n",
    "    print(id, \"is a new student\")\n",
    "else:\n",
    "    print(id, \"is an existing student\")"
   ]
  },
  {
   "cell_type": "code",
   "execution_count": 8,
   "metadata": {},
   "outputs": [
    {
     "data": {
      "text/plain": [
       "False"
      ]
     },
     "execution_count": 8,
     "metadata": {},
     "output_type": "execute_result"
    }
   ],
   "source": [
    "# review and run code\n",
    "\"hello\" < \"Hello\""
   ]
  },
  {
   "cell_type": "code",
   "execution_count": 9,
   "metadata": {},
   "outputs": [
    {
     "data": {
      "text/plain": [
       "False"
      ]
     },
     "execution_count": 9,
     "metadata": {},
     "output_type": "execute_result"
    }
   ],
   "source": [
    "# review and run code\n",
    "\"Aardvark\" > \"Zebra\""
   ]
  },
  {
   "cell_type": "code",
   "execution_count": 10,
   "metadata": {},
   "outputs": [
    {
     "data": {
      "text/plain": [
       "True"
      ]
     },
     "execution_count": 10,
     "metadata": {},
     "output_type": "execute_result"
    }
   ],
   "source": [
    "# review and run code\n",
    "'student' != 'Student'"
   ]
  },
  {
   "cell_type": "code",
   "execution_count": 11,
   "metadata": {},
   "outputs": [
    {
     "name": "stdout",
     "output_type": "stream",
     "text": [
      "'student' >= 'Student' is True\n",
      "'student' != 'Student' is True\n"
     ]
    }
   ],
   "source": [
    "# review and run code\n",
    "print(\"'student' >= 'Student' is\", 'student' >= 'Student')\n",
    "print(\"'student' != 'Student' is\", 'student' != 'Student')"
   ]
  },
  {
   "cell_type": "code",
   "execution_count": 14,
   "metadata": {},
   "outputs": [
    {
     "data": {
      "text/plain": [
       "True"
      ]
     },
     "execution_count": 14,
     "metadata": {},
     "output_type": "execute_result"
    }
   ],
   "source": [
    "# review and run code\n",
    "\"Hello \" + \"World!\" == \"Hello World!\""
   ]
  },
  {
   "cell_type": "code",
   "execution_count": 16,
   "metadata": {},
   "outputs": [
    {
     "name": "stdout",
     "output_type": "stream",
     "text": [
      "Jin Xu is a string entry\n"
     ]
    }
   ],
   "source": [
    "name = \"Jin Xu\"\n",
    "\n",
    "if type(name) == type(\"Hello\"):\n",
    "    print(name, \"is a string entry\")\n",
    "else:\n",
    "    print(name, \"is not a string entry\")"
   ]
  },
  {
   "cell_type": "code",
   "execution_count": null,
   "metadata": {},
   "outputs": [],
   "source": [
    "# [ ] review and run code\n",
    "student_age = input('enter student age (integer): ')\n",
    "age_next_year = int(student_age) + 1\n",
    "print('Next year student will be',age_next_year)\n",
    "# [ ] review and run code\n",
    "# cast to int at input\n",
    "student_age = int(input('enter student age (integer): '))\n",
    "\n",
    "age_in_decade = student_age + 10\n",
    "\n",
    "print('In a decade the student will be', age_in_decade)"
   ]
  },
  {
   "cell_type": "code",
   "execution_count": 10,
   "metadata": {
    "scrolled": true
   },
   "outputs": [
    {
     "name": "stdout",
     "output_type": "stream",
     "text": [
      "True\n",
      "x is NOT equal to y\n"
     ]
    }
   ],
   "source": [
    "x = 3\n",
    "y = \"3\" \n",
    "# print(x.isdigit()    AttributeError: 'int' object has no attribute 'isdigit'\n",
    "print(y.isdigit())\n",
    "# get_diff takes an int and a str\n",
    "def get_diff(xint, ystr):\n",
    "    # <function code needed here>\n",
    "#     return int(ystr) - xint\n",
    "        pass\n",
    "\n",
    "if y.isdigit() == False:\n",
    "   print('\"y\" is not an integer string')\n",
    "elif get_diff(x,y) == 0:\n",
    "    print('x equal to y')\n",
    "else:\n",
    "    print('x is NOT equal to y')"
   ]
  },
  {
   "cell_type": "code",
   "execution_count": 15,
   "metadata": {},
   "outputs": [
    {
     "name": "stdout",
     "output_type": "stream",
     "text": [
      "13.0\n"
     ]
    }
   ],
   "source": [
    "calculation = 5 + 15 / 5 + 3 * 2 - 1\n",
    "print(calculation)"
   ]
  },
  {
   "cell_type": "markdown",
   "metadata": {},
   "source": [
    "PROGRAM: CHEESE ORDER\n",
    "- set values for maximum and minimum order variables\n",
    "- set value for price variable\n",
    "- get order_amount input and cast to a number\n",
    "- check order_amount and give message checking against\n",
    "    - over maximum\n",
    "    - under minimum\n",
    "- else within maximum and minimum give message with calculated price\n",
    "\n",
    "[Sample input and output:]\n",
    "\n",
    " Enter cheese order weight (numeric value): 113\n",
    " \n",
    " 113.0 is more than currently available stock\n",
    "\n",
    " Enter cheese order weight (numeric value): .15\n",
    " \n",
    " 0.15 is below minimum order amount\n",
    "\n",
    " Enter cheese order weight (numeric value): 2\n",
    " \n",
    " 2.0 costs $15.98\n",
    " \n",
    "[the code requirements]\n",
    " - if\n",
    " - elif\n",
    " - else\n",
    " - print()\n",
    " - input()\n",
    " - float()"
   ]
  },
  {
   "cell_type": "code",
   "execution_count": null,
   "metadata": {},
   "outputs": [],
   "source": [
    "weight = input(\"Enter cheese order weight (numeric value):\")\n",
    "\n",
    "if float(weight) > 100.0:\n",
    "    print(float(weight),\"is more than currently available stock\")\n",
    "elif float(weight) < 0.25:\n",
    "    print(float(weight),\"is below minimum order amount\")\n",
    "else:\n",
    "    print(str(float(weight))+\" costs $\"+str(float(weight)*55.0))"
   ]
  },
  {
   "cell_type": "code",
   "execution_count": 3,
   "metadata": {},
   "outputs": [
    {
     "name": "stdout",
     "output_type": "stream",
     "text": [
      "Apple\n"
     ]
    }
   ],
   "source": [
    "if True:\n",
    "    if False:\n",
    "        print(\"Banana\")\n",
    "    else:\n",
    "        print(\"Apple\")\n",
    "else:\n",
    "    if True:\n",
    "        print(\"Dates\")\n",
    "    else:\n",
    "        print(\"Corn\")"
   ]
  },
  {
   "cell_type": "markdown",
   "metadata": {},
   "source": [
    "    Escape Sequences\n",
    "    escape sequences all start with a backslash (\\\\)\n",
    "\n",
    "escape sequences can be used to display characters in python reserved for formatting\n",
    "\n",
    "\\\\\\\\   Backslash (\\\\)\n",
    "\n",
    "\\\\'   Single quote (')\n",
    "\n",
    "\\\\\"   Double quote (\")\n",
    "\n",
    "escape sequences are part of special formatting characters\n",
    "\n",
    "\\\\t   Tab\n",
    "\n",
    "\\\\n   return or newline\n",
    "\n",
    "W\\e use escape sequences in strings - usually with print() statements"
   ]
  },
  {
   "cell_type": "code",
   "execution_count": 2,
   "metadata": {},
   "outputs": [
    {
     "name": "stdout",
     "output_type": "stream",
     "text": [
      "\\\\\\\\\n"
     ]
    }
   ],
   "source": [
    "print(\"\\\\\\\\\\\\\\\\\")"
   ]
  },
  {
   "cell_type": "code",
   "execution_count": null,
   "metadata": {},
   "outputs": [],
   "source": [
    "num_1 = \"\"\n",
    "num_temp = \"\"\n",
    "num_final = \"\"\n",
    "\n",
    "while True:\n",
    "    num_1 = input(\"Enter an integer: \")\n",
    "    if num_1.isdigit():\n",
    "        num_final = num_temp + num_1\n",
    "        num_temp = num_final\n",
    "    else:\n",
    "        print(num_final)\n",
    "        break"
   ]
  },
  {
   "cell_type": "code",
   "execution_count": null,
   "metadata": {},
   "outputs": [],
   "source": [
    "number = \"\"\n",
    "# .isdigit() 은 음의 정수이거나 정수가 아니면 False를 반환하고, 0을 포함한 양의 정수일 때만 True를 반환한다.\n",
    "while number.isdigit() != True: \n",
    "    number = input(\"enter a positive integer: \")\n",
    "print(number, \"is an integer\")"
   ]
  },
  {
   "cell_type": "markdown",
   "metadata": {},
   "source": [
    "    Assignment Requirements\n",
    "    This program requires the use of while loop to get non-empty input, \n",
    "    if, else, if, else (nested), \n",
    "    .isdigit() check for integer only input, \n",
    "    .isalpha() check for alphabetic only input. \n",
    "    The program should only use code syntax covered in modules 1 - 4. The program must result in printed message analysis of the input.\n",
    "\n",
    "    PROGRAM: STR_ANALYSIS() FUNCTION\n",
    "    Create the str_analysis() function that takes 1 string argument and returns a string message. The message will be an analysis of a test string that is passed as an argument to str_analysis(). The function should respond with messages such as:\n",
    "\n",
    "    \"big number\"\n",
    "    \"small number\"\n",
    "    \"all alphabetic\"\n",
    "    \"multiple character types\"\n",
    "    The program will call str_analysis() with a string argument from input collected within a while loop. The while loop will test if input is empty (an empty string \"\") and continue to loop and gather input until the user submits at least 1 character (input cannot be empty).\n",
    "\n",
    "    The program then calls the str_analysis() function and prints the return message.\n",
    "\n",
    "    Sample input and output:\n",
    "    enter nothing (twice) then enter a word\n",
    "\n",
    "    enter word or integer: \n",
    "    enter word or integer: \n",
    "    enter word or integer: Hello\n",
    "    \"Hello\" is all alphabetical characters!\n",
    "  \n",
    "    alphabetical word input\n",
    "\n",
    "    enter word or integer: carbonization\n",
    "    \"carbonization\" is all alphabetical characters!\n",
    "  \n",
    "    numeric inputs\n",
    "\n",
    "    enter word or integer: 30\n",
    "    30 is a smaller number than expected\n",
    "\n",
    "    enter word or integer: 1024\n",
    "    1024 is a pretty big number"
   ]
  },
  {
   "cell_type": "code",
   "execution_count": null,
   "metadata": {},
   "outputs": [],
   "source": [
    "# [ ] create, call and test the str_analysis() function  \n",
    "# then PASTE THIS CODE into edX \n",
    "string = \"\"\n",
    "\n",
    "while True:\n",
    "    if string == \"\":\n",
    "        string = input(\"enter word or integer:\")\n",
    "    else:\n",
    "        break\n",
    "        \n",
    "def str_analysis(string):\n",
    "    if string.isdigit() == True:\n",
    "        print(string)\n",
    "        if int(string) > 99:\n",
    "            return string + \" is a pretty big number\"\n",
    "        else:\n",
    "            return string + \" is a smaller number than expected\"\n",
    "    elif string.isalpha() == True:\n",
    "        return \"\\\"\"+string+\"\\\"\"+\" is all alphabetical characters!\"\n",
    "    else:\n",
    "        return \"\\\"\"+string+\"\\\"\"+ \" is multiple character types\"\n",
    "    \n",
    "print(str_analysis(string))"
   ]
  },
  {
   "cell_type": "markdown",
   "metadata": {},
   "source": [
    "    PROGRAM: ADDING_REPORT() FUNCTION\n",
    "    This program calls the adding_report() function which repeatedly takes positive integer input until the user quits and then sums the integers and prints a \"report\".\n",
    "    The adding_report() function has 1 string parameter which indicates the type of report:\n",
    "\n",
    "    \"A\" used as the argument to adding_report() results in printing of all of the input integers and the total\n",
    "    \"T\" used as the argument results in printing only the total\n",
    "    Sample input and output:\n",
    "    call adding_report() with \"A\" as argument (print all the integers entered and the total)\n",
    "\n",
    "    Input an integer to add to the total or \"Q\" to quit\n",
    "    Enter an integer or \"Q\": 3\n",
    "    Enter an integer or \"Q\": 6\n",
    "    Enter an integer or \"Q\": 24\n",
    "    Enter an integer or \"Q\": 17\n",
    "    Enter an integer or \"Q\": 61\n",
    "    Enter an integer or \"Q\": nine\n",
    "    nine is invalid input\n",
    "    Enter an integer or \"Q\": q\n",
    "\n",
    "    Items\n",
    "    3\n",
    "    6\n",
    "    24\n",
    "    17\n",
    "    61\n",
    "\n",
    "    Total\n",
    "     111\n",
    "    call with \"T\"(print only the total)\n",
    "\n",
    "    Input an integer to add to the total or \"Q\" to quit\n",
    "    Enter an integer or \"Q\": 5\n",
    "    Enter an integer or \"Q\": 7\n",
    "    Enter an integer or \"Q\": Quit\n",
    "\n",
    "    Total\n",
    "     12"
   ]
  },
  {
   "cell_type": "markdown",
   "metadata": {},
   "source": [
    "    The forever (while True) loop diagram\n",
    "    This diagram represents only part of the assignment - it is the loop and nested if statements inside the function. The code will enter at the while True loop after initializing variables."
   ]
  },
  {
   "cell_type": "code",
   "execution_count": 2,
   "metadata": {},
   "outputs": [],
   "source": [
    "# !pip install IPython \n",
    "from IPython.display import Image"
   ]
  },
  {
   "cell_type": "markdown",
   "metadata": {},
   "source": [
    "![title](Pictures/loop.png)"
   ]
  },
  {
   "cell_type": "markdown",
   "metadata": {},
   "source": [
    "    Additional Details\n",
    "    - initialize total variable which will sum integer values entered\n",
    "\n",
    "    - initialize items variable which will build a string of the integer inputs separated with a new line character\n",
    "\n",
    "    - define the adding_report function with one parameter report that will be a string with default of \"T\"\n",
    "\n",
    "    - inside the function build a forever loop (infinite while loop) and inside the loop complete the following\n",
    "\n",
    "        - use a variable to gather input (integer or \"Q\")\n",
    "        - check if the input string is a digit (integer) and if it is...\n",
    "            - add input iteger to total\n",
    "            - if report type is \"A\" add the numeric character(s) to the item string seperated by a new line\n",
    "        - if not a digit, check if the input string is \"Q\" or starts with a \"Q\", if \"Q\" then...\n",
    "            - if the report type is \"A\" print out all the integer items entered and the sum total\n",
    "            - if report type is \"T\" then print out the sum total only\n",
    "            - break out of while loop to end the function after printing the report (\"A\" or \"T\")\n",
    "        - if not a digit and if not a \"Q\" then print a message that the \"input is invalid\"\n",
    "    - Call the adding_report function with \"A\" and then with \"T\" report parameters\n",
    "\n",
    "    - Run and test your code before submitting"
   ]
  },
  {
   "cell_type": "code",
   "execution_count": 9,
   "metadata": {},
   "outputs": [
    {
     "name": "stdout",
     "output_type": "stream",
     "text": [
      "Report Types include All Items (\"A\") or Total Only (\"T\")\n",
      "Choose Report Type (\"A\" or \"T\"):A\n",
      "Input an inteager to add to the total or \"Q\" to quit\n",
      "Enter an Inteager or \"Q\":3\n",
      "Enter an Inteager or \"Q\":6\n",
      "Enter an Inteager or \"Q\":9\n",
      "Enter an Inteager or \"Q\":nine\n",
      "nine is invalid input\n",
      "Enter an Inteager or \"Q\":q\n",
      "\n",
      "Items\n",
      "3\n",
      "6\n",
      "9\n",
      "\n",
      "Total\n",
      "18\n"
     ]
    }
   ],
   "source": [
    "report = \"\"\n",
    "string2 = \"\"\n",
    "print(\"Report Types include All Items (\\\"A\\\") or Total Only (\\\"T\\\")\")\n",
    "def adding_report(report=\"T\"):\n",
    "    items = \"\"\n",
    "    total = 0\n",
    "    while True:\n",
    "        report = input(\"Choose Report Type (\\\"A\\\" or \\\"T\\\"):\")\n",
    "        if report == \"A\":\n",
    "            print(\"Input an inteager to add to the total or \\\"Q\\\" to quit\")\n",
    "            while True:\n",
    "                string2 = input(\"Enter an Inteager or \\\"Q\\\":\")\n",
    "                if string2.isdigit() == True:\n",
    "                    items = items + string2 + \"\\n\"\n",
    "                    total += int(string2)\n",
    "                elif (string2.lower()).startswith(\"q\") == True:\n",
    "                    if report.startswith(\"A\") == True:\n",
    "                        print(\"\\nItems\")\n",
    "                        print(items)\n",
    "                        print(\"Total\")\n",
    "                        print(total)\n",
    "                        break\n",
    "                    else:\n",
    "                        print(\"Total\")\n",
    "                        print(total)\n",
    "                        break\n",
    "                else:\n",
    "                    print(string2,\"is invalid input\")\n",
    "            break\n",
    "        elif report == \"T\":\n",
    "            print(\"Input an integer to add to the total or \\\"Q\\\" to quit\")\n",
    "            while True:\n",
    "                string2 = input(\"Enter an inteager or \\\"Q\\\":\")\n",
    "                if string2.isdigit() == True:\n",
    "                    total += int(string2)\n",
    "                elif (string2.lower()).startswith(\"q\") == True:\n",
    "                    print(\"\\nTotal\")\n",
    "                    print(total)\n",
    "                    break\n",
    "                else:\n",
    "                    print(string2,\"is invalid input\")\n",
    "            break\n",
    "        else:\n",
    "            print(report,\"is invalid input\")\n",
    "adding_report()"
   ]
  },
  {
   "cell_type": "code",
   "execution_count": null,
   "metadata": {},
   "outputs": [],
   "source": []
  }
 ],
 "metadata": {
  "kernelspec": {
   "display_name": "Python 3",
   "language": "python",
   "name": "python3"
  },
  "language_info": {
   "codemirror_mode": {
    "name": "ipython",
    "version": 3
   },
   "file_extension": ".py",
   "mimetype": "text/x-python",
   "name": "python",
   "nbconvert_exporter": "python",
   "pygments_lexer": "ipython3",
   "version": "3.8.3"
  }
 },
 "nbformat": 4,
 "nbformat_minor": 4
}
