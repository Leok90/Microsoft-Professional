{
 "cells": [
  {
   "cell_type": "code",
   "execution_count": 3,
   "metadata": {},
   "outputs": [
    {
     "name": "stdout",
     "output_type": "stream",
     "text": [
      "이름을 입력하세요홍\n",
      "이름 : 홍, type : <class 'str'>\n",
      "이름을 입력하세요 길\n",
      "이름 : 길, type : <class 'str'>\n",
      "아무것도 입력하지 말고 EOF(Ctrl+D 또는 Ctrl+Z+Enter)를 입력해보세요\n"
     ]
    }
   ],
   "source": [
    "# 표준 입력 기본 사용법\n",
    "print('이름을 입력하세요', end=\"\")\n",
    "name = input()\n",
    "print(\"이름 : {0}, type : {1}\".format(name,type(name)))\n",
    "name = input('이름을 입력하세요 ')\n",
    "print(\"이름 : {0}, type : {1}\".format(name,type(name)))\n",
    "name = input('아무것도 입력하지 말고 EOF(Ctrl+D 또는 Ctrl+Z+Enter)를 입력해보세요')"
   ]
  },
  {
   "cell_type": "markdown",
   "metadata": {},
   "source": [
    "정수 입력\n",
    "1. 문자열 입력을 정수형으로 변환\n",
    "2. eval() 함수\n",
    "    - Python 표현식으로 반환\n",
    "3. int() 클래스\n",
    "    - 숫자나 문자열에서 정수 객체 반환\n",
    "    - 인자 없으면 0\n",
    "    - 진법(기본 10진법) -> int(str, base)  \n",
    "    base : x진법"
   ]
  },
  {
   "cell_type": "code",
   "execution_count": 4,
   "metadata": {},
   "outputs": [
    {
     "name": "stdout",
     "output_type": "stream",
     "text": [
      "실수를 입력하시오 : 3.14\n",
      "3.14 <class 'float'> 4.34\n",
      "정수를 입력하시오 : 3.14\n",
      "3.14 <class 'float'> 4.34\n"
     ]
    }
   ],
   "source": [
    "data = eval(input(\"실수를 입력하시오 : \"))\n",
    "print(data, type(data), data + 1.2)\n",
    "\n",
    "data = float(input(\"정수를 입력하시오 : \"))\n",
    "print(data, type(data), data + 1.2)"
   ]
  },
  {
   "cell_type": "markdown",
   "metadata": {},
   "source": [
    "튜플과 리스트로 입력\n",
    "1. 문자열 입력을 튜플과 리스트로 변환\n",
    "2. eval(str) 함수\n",
    "    - Python 표현식으로 반환"
   ]
  },
  {
   "cell_type": "code",
   "execution_count": 5,
   "metadata": {},
   "outputs": [
    {
     "name": "stdout",
     "output_type": "stream",
     "text": [
      "(1,2) 처럼 입력하시오 (1,2)\n",
      "(1,2) <class 'str'>\n",
      "(1,2) 처럼 입력하시오 (1,2)\n",
      "(1, 2) <class 'tuple'>\n",
      "[1,2,3,4,5,6] 처럼 입력하시오 [1,2,3,4,5,6]\n",
      "[1,2,3,4,5,6] <class 'str'>\n",
      "[1,2,3,4,5,6] 처럼 입력하시오 [1,2,3,4,5,6]\n",
      "[1, 2, 3, 4, 5, 6] <class 'list'>\n"
     ]
    }
   ],
   "source": [
    "string = input(\"(1,2) 처럼 입력하시오 \")\n",
    "print(string, type(string))\n",
    "\n",
    "string = eval(input(\"(1,2) 처럼 입력하시오 \"))\n",
    "print(string, type(string))\n",
    "\n",
    "string = input(\"[1,2,3,4,5,6] 처럼 입력하시오 \")\n",
    "print(string, type(string))\n",
    "\n",
    "string = eval(input(\"[1,2,3,4,5,6] 처럼 입력하시오 \"))\n",
    "print(string, type(string))"
   ]
  },
  {
   "cell_type": "markdown",
   "metadata": {},
   "source": [
    "argv와 input 응용\n",
    "1. 프롬프트 변수로 반복 줄이기\n",
    "2. 게임 실행 방식\n",
    "3. 2종류 입력 함께 쓰기\n",
    "    - 스크립트 실행 시 입력 - argv\n",
    "    - 스크립트 실행 중 입력 - input"
   ]
  },
  {
   "cell_type": "code",
   "execution_count": 6,
   "metadata": {},
   "outputs": [
    {
     "ename": "ValueError",
     "evalue": "too many values to unpack (expected 2)",
     "output_type": "error",
     "traceback": [
      "\u001b[1;31m---------------------------------------------------------------------------\u001b[0m",
      "\u001b[1;31mValueError\u001b[0m                                Traceback (most recent call last)",
      "\u001b[1;32m<ipython-input-6-29e782be6063>\u001b[0m in \u001b[0;36m<module>\u001b[1;34m\u001b[0m\n\u001b[0;32m      1\u001b[0m \u001b[1;32mfrom\u001b[0m \u001b[0msys\u001b[0m \u001b[1;32mimport\u001b[0m \u001b[0margv\u001b[0m\u001b[1;33m\u001b[0m\u001b[1;33m\u001b[0m\u001b[0m\n\u001b[0;32m      2\u001b[0m \u001b[1;33m\u001b[0m\u001b[0m\n\u001b[1;32m----> 3\u001b[1;33m \u001b[0mscript\u001b[0m\u001b[1;33m,\u001b[0m \u001b[0muser_name\u001b[0m \u001b[1;33m=\u001b[0m \u001b[0margv\u001b[0m\u001b[1;33m\u001b[0m\u001b[1;33m\u001b[0m\u001b[0m\n\u001b[0m\u001b[0;32m      4\u001b[0m \u001b[0mprompt\u001b[0m \u001b[1;33m=\u001b[0m \u001b[1;34m'> '\u001b[0m\u001b[1;33m\u001b[0m\u001b[1;33m\u001b[0m\u001b[0m\n\u001b[0;32m      5\u001b[0m \u001b[1;33m\u001b[0m\u001b[0m\n",
      "\u001b[1;31mValueError\u001b[0m: too many values to unpack (expected 2)"
     ]
    }
   ],
   "source": [
    "from sys import argv\n",
    "\n",
    "script, user_name = argv\n",
    "prompt = '> '\n",
    "\n",
    "print(f\"안녕 {user_name}, 나는 {script} 스크립트야.\")\n",
    "print(\"질문 몇 가지 해도 되지.\")\n",
    "print(f\"{user_name}, 나 좋아?\")\n",
    "likes = input(prompt)\n",
    "\n",
    "print(f\"{user_name}, 어디 사니?\")\n",
    "lives = input(prompt)\n",
    "\n",
    "print(\"어떤 컴퓨터 가지고 있어?\")\n",
    "computer = input(prompt)\n",
    "\n",
    "print(f\"\"\"\n",
    "좋아, 날 좋아하냐는 물음에 {likes}라고 대답했지.\n",
    "넌 {lives}에 사는 구나.\n",
    "어딘지 잘 모르겠다.\n",
    "{computer} 컴퓨터를 가졌다니! 멋진걸.\n",
    "\"\"\")"
   ]
  },
  {
   "cell_type": "code",
   "execution_count": null,
   "metadata": {},
   "outputs": [],
   "source": []
  }
 ],
 "metadata": {
  "kernelspec": {
   "display_name": "Python 3",
   "language": "python",
   "name": "python3"
  },
  "language_info": {
   "codemirror_mode": {
    "name": "ipython",
    "version": 3
   },
   "file_extension": ".py",
   "mimetype": "text/x-python",
   "name": "python",
   "nbconvert_exporter": "python",
   "pygments_lexer": "ipython3",
   "version": "3.8.3"
  }
 },
 "nbformat": 4,
 "nbformat_minor": 4
}
