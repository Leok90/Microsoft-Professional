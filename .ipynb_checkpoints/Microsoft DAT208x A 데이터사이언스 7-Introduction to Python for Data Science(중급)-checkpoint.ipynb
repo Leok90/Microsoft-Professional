{
 "cells": [
  {
   "cell_type": "code",
   "execution_count": 1,
   "metadata": {},
   "outputs": [
    {
     "ename": "ModuleNotFoundError",
     "evalue": "No module named 'azureml'",
     "output_type": "error",
     "traceback": [
      "\u001b[1;31m---------------------------------------------------------------------------\u001b[0m",
      "\u001b[1;31mModuleNotFoundError\u001b[0m                       Traceback (most recent call last)",
      "\u001b[1;32m<ipython-input-1-46b5bf7384b3>\u001b[0m in \u001b[0;36m<module>\u001b[1;34m\u001b[0m\n\u001b[1;32m----> 1\u001b[1;33m \u001b[1;32mfrom\u001b[0m \u001b[0mazureml\u001b[0m \u001b[1;32mimport\u001b[0m \u001b[0mWorkspace\u001b[0m\u001b[1;33m\u001b[0m\u001b[1;33m\u001b[0m\u001b[0m\n\u001b[0m\u001b[0;32m      2\u001b[0m ws = Workspace(\n\u001b[0;32m      3\u001b[0m     \u001b[0mworkspace_id\u001b[0m\u001b[1;33m=\u001b[0m\u001b[1;34m'abc8e01834c24d16884bae58c1f1095f'\u001b[0m\u001b[1;33m,\u001b[0m\u001b[1;33m\u001b[0m\u001b[1;33m\u001b[0m\u001b[0m\n\u001b[0;32m      4\u001b[0m     \u001b[0mauthorization_token\u001b[0m\u001b[1;33m=\u001b[0m\u001b[1;34m'9RO+CMHTfVO8wQ+ohPUVO1o1iIswMHkGCBPfk7WHpc/HA8lLQmVJC4aDEz2G6FVzVjR+oBGDE/S+rbpD3Lj0/A=='\u001b[0m\u001b[1;33m,\u001b[0m\u001b[1;33m\u001b[0m\u001b[1;33m\u001b[0m\u001b[0m\n\u001b[0;32m      5\u001b[0m     \u001b[0mendpoint\u001b[0m\u001b[1;33m=\u001b[0m\u001b[1;34m'https://studioapi.azureml.net'\u001b[0m\u001b[1;33m\u001b[0m\u001b[1;33m\u001b[0m\u001b[0m\n",
      "\u001b[1;31mModuleNotFoundError\u001b[0m: No module named 'azureml'"
     ]
    }
   ],
   "source": [
    "from azureml import Workspace\n",
    "ws = Workspace(\n",
    "    workspace_id='abc8e01834c24d16884bae58c1f1095f',\n",
    "    authorization_token='9RO+CMHTfVO8wQ+ohPUVO1o1iIswMHkGCBPfk7WHpc/HA8lLQmVJC4aDEz2G6FVzVjR+oBGDE/S+rbpD3Lj0/A==',\n",
    "    endpoint='https://studioapi.azureml.net'\n",
    ")\n",
    "experiment = ws.experiments['abc8e01834c24d16884bae58c1f1095f.f-id.34a30f34cbea4b6eb411f18f70f09b40']\n",
    "ds = experiment.get_intermediate_dataset(\n",
    "    node_id='b17df09f-fbee-4a06-be90-6ddf2d8da55d-150',\n",
    "    port_name='Results dataset',\n",
    "    data_type_id='GenericCSV'\n",
    ")\n",
    "frame = ds.to_dataframe()"
   ]
  },
  {
   "cell_type": "code",
   "execution_count": 3,
   "metadata": {},
   "outputs": [
    {
     "ename": "NameError",
     "evalue": "name 'frame' is not defined",
     "output_type": "error",
     "traceback": [
      "\u001b[1;31m---------------------------------------------------------------------------\u001b[0m",
      "\u001b[1;31mNameError\u001b[0m                                 Traceback (most recent call last)",
      "\u001b[1;32m<ipython-input-3-07a535307e97>\u001b[0m in \u001b[0;36m<module>\u001b[1;34m\u001b[0m\n\u001b[1;32m----> 1\u001b[1;33m \u001b[0mframe\u001b[0m\u001b[1;33m\u001b[0m\u001b[1;33m\u001b[0m\u001b[0m\n\u001b[0m",
      "\u001b[1;31mNameError\u001b[0m: name 'frame' is not defined"
     ]
    }
   ],
   "source": [
    "frame"
   ]
  },
  {
   "cell_type": "code",
   "execution_count": 4,
   "metadata": {},
   "outputs": [
    {
     "ename": "NameError",
     "evalue": "name 'frame' is not defined",
     "output_type": "error",
     "traceback": [
      "\u001b[1;31m---------------------------------------------------------------------------\u001b[0m",
      "\u001b[1;31mNameError\u001b[0m                                 Traceback (most recent call last)",
      "\u001b[1;32m<ipython-input-4-d024497dd147>\u001b[0m in \u001b[0;36m<module>\u001b[1;34m\u001b[0m\n\u001b[0;32m      5\u001b[0m num_cols = [\"Age\", \"Height\", \"Weight\", \"Duration\",\n\u001b[0;32m      6\u001b[0m             \"Heart_Rate\", \"Body_Temp\", \"Calories\"]\n\u001b[1;32m----> 7\u001b[1;33m \u001b[0msns\u001b[0m\u001b[1;33m.\u001b[0m\u001b[0mpairplot\u001b[0m\u001b[1;33m(\u001b[0m\u001b[0mframe\u001b[0m\u001b[1;33m[\u001b[0m\u001b[0mnum_cols\u001b[0m\u001b[1;33m]\u001b[0m\u001b[1;33m,\u001b[0m \u001b[0msize\u001b[0m\u001b[1;33m=\u001b[0m\u001b[1;36m2\u001b[0m\u001b[1;33m)\u001b[0m\u001b[1;33m\u001b[0m\u001b[1;33m\u001b[0m\u001b[0m\n\u001b[0m",
      "\u001b[1;31mNameError\u001b[0m: name 'frame' is not defined"
     ]
    }
   ],
   "source": [
    "# Create a scatter plot matrix 산점도\n",
    "%matplotlib inline\n",
    "\n",
    "import seaborn as sns\n",
    "num_cols = [\"Age\", \"Height\", \"Weight\", \"Duration\",\n",
    "            \"Heart_Rate\", \"Body_Temp\", \"Calories\"]\n",
    "sns.pairplot(frame[num_cols], size=2)"
   ]
  }
 ],
 "metadata": {
  "kernelspec": {
   "display_name": "Python 3",
   "language": "python",
   "name": "python3"
  },
  "language_info": {
   "codemirror_mode": {
    "name": "ipython",
    "version": 3
   },
   "file_extension": ".py",
   "mimetype": "text/x-python",
   "name": "python",
   "nbconvert_exporter": "python",
   "pygments_lexer": "ipython3",
   "version": "3.8.3"
  }
 },
 "nbformat": 4,
 "nbformat_minor": 4
}
