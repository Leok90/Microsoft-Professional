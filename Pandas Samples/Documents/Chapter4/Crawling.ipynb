{
  "cells": [
    {
      "metadata": {
        "trusted": true
      },
      "cell_type": "code",
      "source": "!pip install google_images_download",
      "execution_count": 1,
      "outputs": [
        {
          "output_type": "stream",
          "text": "Collecting google_images_download\n  Downloading https://files.pythonhosted.org/packages/43/51/49ebfd3a02945974b1d93e34bb96a1f9530a0dde9c2bc022b30fd658edd6/google_images_download-2.5.0.tar.gz\nCollecting selenium (from google_images_download)\n\u001b[?25l  Downloading https://files.pythonhosted.org/packages/80/d6/4294f0b4bce4de0abf13e17190289f9d0613b0a44e5dd6a7f5ca98459853/selenium-3.141.0-py2.py3-none-any.whl (904kB)\n\u001b[K    100% |████████████████████████████████| 911kB 7.2MB/s eta 0:00:01\n\u001b[?25hRequirement already satisfied: urllib3 in /home/nbuser/anaconda3_420/lib/python3.5/site-packages (from selenium->google_images_download) (1.24.1)\nBuilding wheels for collected packages: google-images-download\n  Running setup.py bdist_wheel for google-images-download ... \u001b[?25ldone\n\u001b[?25h  Stored in directory: /home/nbuser/.cache/pip/wheels/d2/23/84/3cec6d566b88bef64ad727a7e805f6544b8af4a8f121f9691c\nSuccessfully built google-images-download\nInstalling collected packages: selenium, google-images-download\nSuccessfully installed google-images-download-2.5.0 selenium-3.141.0\n",
          "name": "stdout"
        }
      ]
    },
    {
      "metadata": {
        "trusted": true
      },
      "cell_type": "code",
      "source": "menu = [[0,'자장면'],[1,'짬뽕'],[2,'탕수육']]",
      "execution_count": 2,
      "outputs": []
    },
    {
      "metadata": {
        "trusted": true
      },
      "cell_type": "code",
      "source": "for m in menu:\n    print(m)",
      "execution_count": 3,
      "outputs": [
        {
          "output_type": "stream",
          "text": "[0, '자장면']\n[1, '짬뽕']\n[2, '탕수육']\n",
          "name": "stdout"
        }
      ]
    },
    {
      "metadata": {
        "trusted": true
      },
      "cell_type": "code",
      "source": "from google_images_download import google_images_download",
      "execution_count": 4,
      "outputs": []
    },
    {
      "metadata": {
        "trusted": true
      },
      "cell_type": "code",
      "source": "response = google_images_download.googleimagesdownload()",
      "execution_count": 5,
      "outputs": []
    },
    {
      "metadata": {
        "trusted": true
      },
      "cell_type": "code",
      "source": "for m in menu:\n    arguments = {\"keywords\":m[1],\"limit\":10,\"print_urls\":True,\"no_directory\":True,\"output_directory\":\"./images/%s\" % m[0],\"no_numbering\":True}   #creating list of arguments\n    print(arguments)\n    paths = response.download(arguments) ",
      "execution_count": 6,
      "outputs": [
        {
          "output_type": "stream",
          "text": "{'no_directory': True, 'limit': 10, 'keywords': '자장면', 'no_numbering': True, 'output_directory': './images/0', 'print_urls': True}\n\nItem no.: 1 --> Item name = 자장면\nEvaluating...\nStarting Download...\nImage URL: http://i0.wp.com/hif.co.kr/wp-content/uploads/2017/05/sdfsdf.jpg\nCompleted Image ====> 1. sdfsdf.jpg\nImage URL: http://ko.lovechina.wikidok.net/api/File/Real/5a7156147215c2111547a449\nCompleted Image ====> 2. 5a7156147215c2111547a449.jpg\nImage URL: http://pds18.egloos.com/pds/201101/05/12/c0055612_4d24183f738f1.gif\nCompleted Image ====> 3. c0055612_4d24183f738f1.gif\nImage URL: http://mblogthumb1.phinf.naver.net/MjAxNzAxMjNfMTc1/MDAxNDg1MTYwNDc5Nzg2.AyX5l2D6NNybK4UZLqpSVp-HV2lMXz5wszSPknt3gNgg.iVfzo7zNwIIC8ro25fnogwBVARqPaKsxPHQcXiaHEdUg.JPEG.china_lab/shutterstock_543369628.jpg?type=w800\nCompleted Image ====> 4. shutterstock_543369628.jpg\nImage URL: https://previews.123rf.com/images/nontoxicguy/nontoxicguy1611/nontoxicguy161100449/66442760-%EC%9E%90%EC%9E%A5%EB%A9%B4-%EA%B2%80%EC%9D%80-%EC%BD%A9-%EC%86%8C%EC%8A%A4-%EA%B5%AD%EC%88%98.jpg\nCompleted Image ====> 5. 66442760-%ec%9e%90%ec%9e%a5%eb%a9%b4-%ea%b2%80%ec%9d%80-%ec%bd%a9-%ec%86%8c%ec%8a%a4-%ea%b5%ad%ec%88%98.jpg\nImage URL: https://media-cdn.tripadvisor.com/media/photo-s/08/f5/04/3f/caption.jpg\nCompleted Image ====> 6. caption.jpg\nImage URL: https://pds.joins.com/news/component/htmlphoto_mmdata/201506/12/htm_2015061217857d100d133.jpg\nCompleted Image ====> 7. htm_2015061217857d100d133.jpg\nImage URL: https://t1.daumcdn.net/cfile/tistory/1769E80B4CB2AFA14F\nCompleted Image ====> 8. 1769e80b4cb2afa14f.jpg\nImage URL: http://cfile240.uf.daum.net/image/156D5C4A4E702FCB20EA1F\nCompleted Image ====> 9. 156d5c4a4e702fcb20ea1f.jpg\nImage URL: http://2.bp.blogspot.com/-eF0NsXfaNjI/U0gUTWleXvI/AAAAAAAAEuo/Ps5OXHiDgFU/s1600/%EC%98%AC%EB%A6%AC%EB%B8%8C%EC%9E%90%EC%9E%A5%EB%A9%B402.jpg\nCompleted Image ====> 10. %ec%98%ac%eb%a6%ac%eb%b8%8c%ec%9e%90%ec%9e%a5%eb%a9%b402.jpg\n\nErrors: 0\n\n{'no_directory': True, 'limit': 10, 'keywords': '짬뽕', 'no_numbering': True, 'output_directory': './images/1', 'print_urls': True}\n\nItem no.: 1 --> Item name = 짬뽕\nEvaluating...\nStarting Download...\nImage URL: http://recipe1.ezmember.co.kr/cache/recipe/2017/02/18/42ec50c7c281289367d1e7e4d06f4fcc1.jpg\nCompleted Image ====> 1. 42ec50c7c281289367d1e7e4d06f4fcc1.jpg\nImage URL: http://recipe1.ezmember.co.kr/cache/recipe/2017/03/22/3c41f1026026af835a329cc9683e924c1.jpg\nCompleted Image ====> 2. 3c41f1026026af835a329cc9683e924c1.jpg\nImage URL: http://recipe1.ezmember.co.kr/cache/recipe/2017/11/03/0ff90248d8c0fe4e33bd82aeab755b801.jpg\nCompleted Image ====> 3. 0ff90248d8c0fe4e33bd82aeab755b801.jpg\nImage URL: http://pds27.egloos.com/pds/201510/26/41/d0021441_562d9a57b1383.jpg\nCompleted Image ====> 4. d0021441_562d9a57b1383.jpg\nImage URL: https://www.visitjeju.net/upload_data/contents/mobile/151062298810311.jpg\nCompleted Image ====> 5. 151062298810311.jpg\nImage URL: http://food.chosun.com/site/data/img_dir/2012/08/08/2012080802054_0.jpg\nCompleted Image ====> 6. 2012080802054_0.jpg\nImage URL: https://t1.daumcdn.net/cfile/tistory/244D725055D492312E\nCompleted Image ====> 7. 244d725055d492312e.jpg\nImage URL: http://imagescdn.gettyimagesbank.com/500/201708/jv10946082.jpg\nCompleted Image ====> 8. jv10946082.jpg\nImage URL: https://www.noodlelovers.com/upload_data/m_product_recipe_set/%EC%A7%AC%EB%BD%95_%ED%9B%84%EB%A9%B4_2.png\nCompleted Image ====> 9. %ec%a7%ac%eb%bd%95_%ed%9b%84%eb%a9%b4_2.png\nImage URL: https://upload.wikimedia.org/wikipedia/commons/b/bb/Jjamppong.jpg\nCompleted Image ====> 10. jjamppong.jpg\n\nErrors: 0\n\n{'no_directory': True, 'limit': 10, 'keywords': '탕수육', 'no_numbering': True, 'output_directory': './images/2', 'print_urls': True}\n\nItem no.: 1 --> Item name = 탕수육\nEvaluating...\nStarting Download...\nImage URL: https://upload.wikimedia.org/wikipedia/commons/thumb/4/4d/Tangsuyuk_%28Korean_Chinese_sweet_and_sour_pork%29.jpg/220px-Tangsuyuk_%28Korean_Chinese_sweet_and_sour_pork%29.jpg\nCompleted Image ====> 1. 220px-tangsuyuk_%28korean_chinese_sweet_and_sour_pork%29.jpg\nImage URL: http://recipe1.ezmember.co.kr/cache/recipe/2017/03/18/1162d6b85bc36183895b1ee2927d701d1.jpg\nCompleted Image ====> 2. 1162d6b85bc36183895b1ee2927d701d1.jpg\nImage URL: https://s3.namuwikiusercontent.com/s/1bfbdabde6f79ac2f05843636edaa87a8e03419bf86205eabe0e33e76c16b1a02be6d9458d5fe7ab418ce21dc1eb3a831f20c8ba793514b71773858a625cdb63e78b5b7060762c60df4c04f43c8d95c0861a2984bc01da84d14e62247390a980\nURLError on an image...trying next one... Error: HTTP Error 403: Forbidden\nImage URL: https://i1.wp.com/starkaraokeuiuc.net/wp-content/uploads/2017/09/K-11.jpg?fit=639%2C409\nCompleted Image ====> 3. k-11.jpg\nImage URL: https://homecuisine.co.kr/files/attach/images/142/737/002/969e9f7dc60d42510c5c0353a58ba701.JPG\nCompleted Image ====> 4. 969e9f7dc60d42510c5c0353a58ba701.jpg\nImage URL: https://homecuisine.co.kr/files/attach/images/142/073/002/3419c948fb2f0c2a96b0bc49afd75947.JPG\nCompleted Image ====> 5. 3419c948fb2f0c2a96b0bc49afd75947.jpg\nImage URL: http://image.aafood.co.kr/image/upload/mf/t6n9n8tr/drpv1431305058556.jpg\nCompleted Image ====> 6. drpv1431305058556.jpg\nImage URL: https://i.ytimg.com/vi/IfGE4VcG08A/maxresdefault.jpg\nCompleted Image ====> 7. maxresdefault.jpg\nImage URL: https://mblogthumb-phinf.pstatic.net/20160302_45/mildek_1456896139903Eyzuh_JPEG/DSC04066.JPG?type=w800\nCompleted Image ====> 8. dsc04066.jpg\nImage URL: https://t1.daumcdn.net/cfile/tistory/226F883D552E886313\nCompleted Image ====> 9. 226f883d552e886313.jpg\nImage URL: https://www.maangchi.com/wp-content/uploads/2008/12/sweet_sour-pork.gif\nCompleted Image ====> 10. sweet_sour-pork.gif\n\nErrors: 1\n\n",
          "name": "stdout"
        }
      ]
    },
    {
      "metadata": {
        "scrolled": true,
        "trusted": true
      },
      "cell_type": "code",
      "source": "!pip install azure-cognitiveservices-vision-customvision",
      "execution_count": 7,
      "outputs": [
        {
          "output_type": "stream",
          "text": "Collecting azure-cognitiveservices-vision-customvision\n\u001b[?25l  Downloading https://files.pythonhosted.org/packages/20/a4/869552805373199b1dc026c5317e9e936d2e0302e2c09636d917a89b9d2d/azure_cognitiveservices_vision_customvision-0.4.0-py2.py3-none-any.whl (93kB)\n\u001b[K    100% |████████████████████████████████| 102kB 5.0MB/s a 0:00:011\n\u001b[?25hRequirement already satisfied: azure-common~=1.1 in /home/nbuser/anaconda3_420/lib/python3.5/site-packages (from azure-cognitiveservices-vision-customvision) (1.1.16)\nCollecting msrest>=0.5.0 (from azure-cognitiveservices-vision-customvision)\n\u001b[?25l  Downloading https://files.pythonhosted.org/packages/eb/96/1cf56e4cfd221b7f6eb6ab096dc23b0d21361393f0784276531e49b0b2a1/msrest-0.6.4-py2.py3-none-any.whl (81kB)\n\u001b[K    100% |████████████████████████████████| 81kB 20.5MB/s ta 0:00:01\n\u001b[?25hCollecting certifi>=2017.4.17 (from msrest>=0.5.0->azure-cognitiveservices-vision-customvision)\n  Using cached https://files.pythonhosted.org/packages/9f/e0/accfc1b56b57e9750eba272e24c4dddeac86852c2bebd1236674d7887e8a/certifi-2018.11.29-py2.py3-none-any.whl\nCollecting requests~=2.16 (from msrest>=0.5.0->azure-cognitiveservices-vision-customvision)\n  Using cached https://files.pythonhosted.org/packages/7d/e3/20f3d364d6c8e5d2353c72a67778eb189176f08e873c9900e10c0287b84b/requests-2.21.0-py2.py3-none-any.whl\nCollecting requests-oauthlib>=0.5.0 (from msrest>=0.5.0->azure-cognitiveservices-vision-customvision)\n  Downloading https://files.pythonhosted.org/packages/74/d2/91fd85529288418f81e9ed9347b1c548df09327059515cac39e1727b349f/requests_oauthlib-1.1.0-py2.py3-none-any.whl\nCollecting isodate>=0.6.0 (from msrest>=0.5.0->azure-cognitiveservices-vision-customvision)\n\u001b[?25l  Downloading https://files.pythonhosted.org/packages/9b/9f/b36f7774ff5ea8e428fdcfc4bb332c39ee5b9362ddd3d40d9516a55221b2/isodate-0.6.0-py2.py3-none-any.whl (45kB)\n\u001b[K    100% |████████████████████████████████| 51kB 13.5MB/s ta 0:00:01\n\u001b[?25hRequirement already satisfied: urllib3<1.25,>=1.21.1 in /home/nbuser/anaconda3_420/lib/python3.5/site-packages (from requests~=2.16->msrest>=0.5.0->azure-cognitiveservices-vision-customvision) (1.24.1)\nCollecting idna<2.9,>=2.5 (from requests~=2.16->msrest>=0.5.0->azure-cognitiveservices-vision-customvision)\n  Using cached https://files.pythonhosted.org/packages/14/2c/cd551d81dbe15200be1cf41cd03869a46fe7226e7450af7a6545bfc474c9/idna-2.8-py2.py3-none-any.whl\nCollecting chardet<3.1.0,>=3.0.2 (from requests~=2.16->msrest>=0.5.0->azure-cognitiveservices-vision-customvision)\n  Using cached https://files.pythonhosted.org/packages/bc/a9/01ffebfb562e4274b6487b4bb1ddec7ca55ec7510b22e4c51f14098443b8/chardet-3.0.4-py2.py3-none-any.whl\nCollecting oauthlib<3.0.0,>=2.1.0 (from requests-oauthlib>=0.5.0->msrest>=0.5.0->azure-cognitiveservices-vision-customvision)\n\u001b[?25l  Downloading https://files.pythonhosted.org/packages/e6/d1/ddd9cfea3e736399b97ded5c2dd62d1322adef4a72d816f1ed1049d6a179/oauthlib-2.1.0-py2.py3-none-any.whl (121kB)\n\u001b[K    100% |████████████████████████████████| 122kB 11.0MB/s ta 0:00:01\n\u001b[?25hRequirement already satisfied: six in /home/nbuser/anaconda3_420/lib/python3.5/site-packages (from isodate>=0.6.0->msrest>=0.5.0->azure-cognitiveservices-vision-customvision) (1.11.0)\nInstalling collected packages: certifi, idna, chardet, requests, oauthlib, requests-oauthlib, isodate, msrest, azure-cognitiveservices-vision-customvision\n  Found existing installation: idna 2.1\n    Uninstalling idna-2.1:\n      Successfully uninstalled idna-2.1\n  Found existing installation: requests 2.14.2\n    Uninstalling requests-2.14.2:\n      Successfully uninstalled requests-2.14.2\nSuccessfully installed azure-cognitiveservices-vision-customvision-0.4.0 certifi-2018.11.29 chardet-3.0.4 idna-2.8 isodate-0.6.0 msrest-0.6.4 oauthlib-2.1.0 requests-2.21.0 requests-oauthlib-1.1.0\n",
          "name": "stdout"
        }
      ]
    },
    {
      "metadata": {
        "trusted": true
      },
      "cell_type": "code",
      "source": "from azure.cognitiveservices.vision.customvision.training.custom_vision_training_client import CustomVisionTrainingClient\nfrom azure.cognitiveservices.vision.customvision.training.models import ImageFileCreateEntry, Region",
      "execution_count": 20,
      "outputs": []
    },
    {
      "metadata": {
        "trusted": true
      },
      "cell_type": "code",
      "source": "# Replace with a valid key\ntraining_key = \"0ecba38ac94c47729f3c4309837edc70\"\nprediction_key = \"bf4e90cae0dd4883a6404c7b8a73bd69\"",
      "execution_count": 21,
      "outputs": []
    },
    {
      "metadata": {
        "trusted": true
      },
      "cell_type": "code",
      "source": "ENDPOINT = \"https://southcentralus.api.cognitive.microsoft.com\"",
      "execution_count": 22,
      "outputs": []
    },
    {
      "metadata": {
        "trusted": true
      },
      "cell_type": "code",
      "source": "trainer = CustomVisionTrainingClient(training_key, endpoint=ENDPOINT)",
      "execution_count": 23,
      "outputs": []
    },
    {
      "metadata": {
        "trusted": true
      },
      "cell_type": "code",
      "source": "# Create a new project\nprint(\"Creating project...\")\nproject = trainer.create_project(\"My Project\")\nprint(\"Created project...\")",
      "execution_count": 24,
      "outputs": [
        {
          "output_type": "stream",
          "text": "Creating project...\nCreated project...\n",
          "name": "stdout"
        }
      ]
    },
    {
      "metadata": {
        "trusted": true
      },
      "cell_type": "code",
      "source": "TagList = []\nfor x in range(0, len(menu)):\n    print(menu[x][0])\n    TagList.append(trainer.create_tag(project.id, menu[x][1]))",
      "execution_count": 25,
      "outputs": [
        {
          "output_type": "stream",
          "text": "0\n1\n2\n",
          "name": "stdout"
        }
      ]
    },
    {
      "metadata": {
        "trusted": true
      },
      "cell_type": "code",
      "source": "import os",
      "execution_count": 26,
      "outputs": []
    },
    {
      "metadata": {
        "trusted": true
      },
      "cell_type": "code",
      "source": "base_image_url = 'https://notebooks.azure.com/youngwook/libraries/Kunsan/raw/Documents%2FChapter4%2Fimages%2F'\n\nfor m in menu:\n    print(\"Adding images for %s tag\" % m[1])\n    path = './images/%s' % m[0]\n    print(path)\n    files = os.listdir(path)\n    \n    for file in files:\n        print(file)\n        image_url = base_image_url + str(m[0]) + '%2F' + file\n        print(image_url)       \n        trainer.create_images_from_urls(project.id, [ ImageUrlCreateEntry(url=image_url, tag_ids=[TagList[m[0]].id] ) ])\n        \n    print(\"Added images for %s tag\\n\\n\" % m[1])",
      "execution_count": 27,
      "outputs": [
        {
          "output_type": "stream",
          "text": "Adding images for 자장면 tag\n./images/0\n99167c335986d4ef36.jpg\nhttps://notebooks.azure.com/youngwook/libraries/Kunsan/raw/Documents%2FChapter4%2Fimages%2F0%2F99167c335986d4ef36.jpg\n66442760-%ec%9e%90%ec%9e%a5%eb%a9%b4-%ea%b2%80%ec%9d%80-%ec%bd%a9-%ec%86%8c%ec%8a%a4-%ea%b5%ad%ec%88%98.jpg\nhttps://notebooks.azure.com/youngwook/libraries/Kunsan/raw/Documents%2FChapter4%2Fimages%2F0%2F66442760-%ec%9e%90%ec%9e%a5%eb%a9%b4-%ea%b2%80%ec%9d%80-%ec%bd%a9-%ec%86%8c%ec%8a%a4-%ea%b5%ad%ec%88%98.jpg\nc0055612_4d24183f738f1.gif\nhttps://notebooks.azure.com/youngwook/libraries/Kunsan/raw/Documents%2FChapter4%2Fimages%2F0%2Fc0055612_4d24183f738f1.gif\n1769e80b4cb2afa14f.jpg\nhttps://notebooks.azure.com/youngwook/libraries/Kunsan/raw/Documents%2FChapter4%2Fimages%2F0%2F1769e80b4cb2afa14f.jpg\nsdfsdf.jpg\nhttps://notebooks.azure.com/youngwook/libraries/Kunsan/raw/Documents%2FChapter4%2Fimages%2F0%2Fsdfsdf.jpg\n%ec%98%ac%eb%a6%ac%eb%b8%8c%ec%9e%90%ec%9e%a5%eb%a9%b402.jpg\nhttps://notebooks.azure.com/youngwook/libraries/Kunsan/raw/Documents%2FChapter4%2Fimages%2F0%2F%ec%98%ac%eb%a6%ac%eb%b8%8c%ec%9e%90%ec%9e%a5%eb%a9%b402.jpg\nhtm_2015061217857d100d133.jpg\nhttps://notebooks.azure.com/youngwook/libraries/Kunsan/raw/Documents%2FChapter4%2Fimages%2F0%2Fhtm_2015061217857d100d133.jpg\n1516879752694407.jpg\nhttps://notebooks.azure.com/youngwook/libraries/Kunsan/raw/Documents%2FChapter4%2Fimages%2F0%2F1516879752694407.jpg\n5a7156147215c2111547a449.jpg\nhttps://notebooks.azure.com/youngwook/libraries/Kunsan/raw/Documents%2FChapter4%2Fimages%2F0%2F5a7156147215c2111547a449.jpg\ncaption.jpg\nhttps://notebooks.azure.com/youngwook/libraries/Kunsan/raw/Documents%2FChapter4%2Fimages%2F0%2Fcaption.jpg\nshutterstock_543369628.jpg\nhttps://notebooks.azure.com/youngwook/libraries/Kunsan/raw/Documents%2FChapter4%2Fimages%2F0%2Fshutterstock_543369628.jpg\n156d5c4a4e702fcb20ea1f.jpg\nhttps://notebooks.azure.com/youngwook/libraries/Kunsan/raw/Documents%2FChapter4%2Fimages%2F0%2F156d5c4a4e702fcb20ea1f.jpg\ni16179414084.png\nhttps://notebooks.azure.com/youngwook/libraries/Kunsan/raw/Documents%2FChapter4%2Fimages%2F0%2Fi16179414084.png\njv10954642.jpg\nhttps://notebooks.azure.com/youngwook/libraries/Kunsan/raw/Documents%2FChapter4%2Fimages%2F0%2Fjv10954642.jpg\nAdded images for 자장면 tag\n\n\nAdding images for 짬뽕 tag\n./images/1\n46f9e8cd-ff32-440d-883e-e6d79ba15b3d.jpg\nhttps://notebooks.azure.com/youngwook/libraries/Kunsan/raw/Documents%2FChapter4%2Fimages%2F1%2F46f9e8cd-ff32-440d-883e-e6d79ba15b3d.jpg\n%ec%a7%ac%eb%bd%95_%ed%9b%84%eb%a9%b4_2.png\nhttps://notebooks.azure.com/youngwook/libraries/Kunsan/raw/Documents%2FChapter4%2Fimages%2F1%2F%ec%a7%ac%eb%bd%95_%ed%9b%84%eb%a9%b4_2.png\n2209403f5660ef880f.jpg\nhttps://notebooks.azure.com/youngwook/libraries/Kunsan/raw/Documents%2FChapter4%2Fimages%2F1%2F2209403f5660ef880f.jpg\n151062298810311.jpg\nhttps://notebooks.azure.com/youngwook/libraries/Kunsan/raw/Documents%2FChapter4%2Fimages%2F1%2F151062298810311.jpg\n3c41f1026026af835a329cc9683e924c1.jpg\nhttps://notebooks.azure.com/youngwook/libraries/Kunsan/raw/Documents%2FChapter4%2Fimages%2F1%2F3c41f1026026af835a329cc9683e924c1.jpg\n42ec50c7c281289367d1e7e4d06f4fcc1.jpg\nhttps://notebooks.azure.com/youngwook/libraries/Kunsan/raw/Documents%2FChapter4%2Fimages%2F1%2F42ec50c7c281289367d1e7e4d06f4fcc1.jpg\n2012080802054_0.jpg\nhttps://notebooks.azure.com/youngwook/libraries/Kunsan/raw/Documents%2FChapter4%2Fimages%2F1%2F2012080802054_0.jpg\n244d725055d492312e.jpg\nhttps://notebooks.azure.com/youngwook/libraries/Kunsan/raw/Documents%2FChapter4%2Fimages%2F1%2F244d725055d492312e.jpg\njv10946082.jpg\nhttps://notebooks.azure.com/youngwook/libraries/Kunsan/raw/Documents%2FChapter4%2Fimages%2F1%2Fjv10946082.jpg\njjamppong.jpg\nhttps://notebooks.azure.com/youngwook/libraries/Kunsan/raw/Documents%2FChapter4%2Fimages%2F1%2Fjjamppong.jpg\n2016100701000025500000891.jpg\nhttps://notebooks.azure.com/youngwook/libraries/Kunsan/raw/Documents%2FChapter4%2Fimages%2F1%2F2016100701000025500000891.jpg\nd0021441_562d9a57b1383.jpg\nhttps://notebooks.azure.com/youngwook/libraries/Kunsan/raw/Documents%2FChapter4%2Fimages%2F1%2Fd0021441_562d9a57b1383.jpg\n0ff90248d8c0fe4e33bd82aeab755b801.jpg\nhttps://notebooks.azure.com/youngwook/libraries/Kunsan/raw/Documents%2FChapter4%2Fimages%2F1%2F0ff90248d8c0fe4e33bd82aeab755b801.jpg\nAdded images for 짬뽕 tag\n\n\nAdding images for 탕수육 tag\n./images/2\n71adb367d901ba7021482096c6d516501.jpg\nhttps://notebooks.azure.com/youngwook/libraries/Kunsan/raw/Documents%2FChapter4%2Fimages%2F2%2F71adb367d901ba7021482096c6d516501.jpg\nmaxresdefault.jpg\nhttps://notebooks.azure.com/youngwook/libraries/Kunsan/raw/Documents%2FChapter4%2Fimages%2F2%2Fmaxresdefault.jpg\ndsc04066.jpg\nhttps://notebooks.azure.com/youngwook/libraries/Kunsan/raw/Documents%2FChapter4%2Fimages%2F2%2Fdsc04066.jpg\nk-11.jpg\nhttps://notebooks.azure.com/youngwook/libraries/Kunsan/raw/Documents%2FChapter4%2Fimages%2F2%2Fk-11.jpg\n969e9f7dc60d42510c5c0353a58ba701.jpg\nhttps://notebooks.azure.com/youngwook/libraries/Kunsan/raw/Documents%2FChapter4%2Fimages%2F2%2F969e9f7dc60d42510c5c0353a58ba701.jpg\n220px-tangsuyuk_%28korean_chinese_sweet_and_sour_pork%29.jpg\nhttps://notebooks.azure.com/youngwook/libraries/Kunsan/raw/Documents%2FChapter4%2Fimages%2F2%2F220px-tangsuyuk_%28korean_chinese_sweet_and_sour_pork%29.jpg\n3419c948fb2f0c2a96b0bc49afd75947.jpg\nhttps://notebooks.azure.com/youngwook/libraries/Kunsan/raw/Documents%2FChapter4%2Fimages%2F2%2F3419c948fb2f0c2a96b0bc49afd75947.jpg\n1162d6b85bc36183895b1ee2927d701d1.jpg\nhttps://notebooks.azure.com/youngwook/libraries/Kunsan/raw/Documents%2FChapter4%2Fimages%2F2%2F1162d6b85bc36183895b1ee2927d701d1.jpg\n226f883d552e886313.jpg\nhttps://notebooks.azure.com/youngwook/libraries/Kunsan/raw/Documents%2FChapter4%2Fimages%2F2%2F226f883d552e886313.jpg\ndrpv1431305058556.jpg\nhttps://notebooks.azure.com/youngwook/libraries/Kunsan/raw/Documents%2FChapter4%2Fimages%2F2%2Fdrpv1431305058556.jpg\nsweet_sour-pork.gif\nhttps://notebooks.azure.com/youngwook/libraries/Kunsan/raw/Documents%2FChapter4%2Fimages%2F2%2Fsweet_sour-pork.gif\nfull_%ec%97%b0%ec%96%b4-%ed%83%95%ec%88%98%ec%9c%a1.png\nhttps://notebooks.azure.com/youngwook/libraries/Kunsan/raw/Documents%2FChapter4%2Fimages%2F2%2Ffull_%ec%97%b0%ec%96%b4-%ed%83%95%ec%88%98%ec%9c%a1.png\nd883e65d6eb26bacff37f8c362dc2a2d.jpg\nhttps://notebooks.azure.com/youngwook/libraries/Kunsan/raw/Documents%2FChapter4%2Fimages%2F2%2Fd883e65d6eb26bacff37f8c362dc2a2d.jpg\nAdded images for 탕수육 tag\n\n\n",
          "name": "stdout"
        }
      ]
    },
    {
      "metadata": {
        "trusted": true
      },
      "cell_type": "code",
      "source": "import time",
      "execution_count": 28,
      "outputs": []
    },
    {
      "metadata": {
        "trusted": true
      },
      "cell_type": "code",
      "source": "print (\"Training...\")\n\niteration = trainer.train_project(project.id)\nwhile (iteration.status != \"Completed\"):\n    iteration = trainer.get_iteration(project.id, iteration.id)\n    print (\"Training status: \" + iteration.status)\n    time.sleep(1)\n\n# The iteration is now trained. Make it the default project endpoint\ntrainer.update_iteration(project.id, iteration.id, is_default=True)\nprint (\"Done!\")",
      "execution_count": 29,
      "outputs": [
        {
          "output_type": "stream",
          "text": "Training...\nTraining status: Training\nTraining status: Training\nTraining status: Training\nTraining status: Training\nTraining status: Training\nTraining status: Training\nTraining status: Training\nTraining status: Training\nTraining status: Training\nTraining status: Training\nTraining status: Training\nTraining status: Training\nTraining status: Training\nTraining status: Training\nTraining status: Training\nTraining status: Training\nTraining status: Training\nTraining status: Completed\nDone!\n",
          "name": "stdout"
        }
      ]
    },
    {
      "metadata": {
        "trusted": true
      },
      "cell_type": "code",
      "source": "#Search\n\n#from azure.cognitiveservices.vision.customvision.prediction import prediction_endpoint\n#from azure.cognitiveservices.vision.customvision.prediction.prediction_endpoint import models\nfrom azure.cognitiveservices.vision.customvision.prediction import CustomVisionPredictionClient",
      "execution_count": 41,
      "outputs": []
    },
    {
      "metadata": {
        "trusted": true
      },
      "cell_type": "code",
      "source": "predictor = CustomVisionPredictionClient(prediction_key, endpoint=ENDPOINT)",
      "execution_count": 44,
      "outputs": []
    },
    {
      "metadata": {
        "trusted": true
      },
      "cell_type": "code",
      "source": "test_img_url = 'https://upload.wikimedia.org/wikipedia/commons/thumb/e/e9/Korean.cuisine-Jajangmyeon-01.jpg/330px-Korean.cuisine-Jajangmyeon-01.jpg'\nresults = predictor.predict_image_url(project.id, iteration.id, url = test_img_url)",
      "execution_count": 45,
      "outputs": []
    },
    {
      "metadata": {
        "trusted": true
      },
      "cell_type": "code",
      "source": "for prediction in results.predictions:\n    print (\"\\t\" + prediction.tag_name + \": {0:.2f}%\".format(prediction.probability * 100))",
      "execution_count": 46,
      "outputs": [
        {
          "output_type": "stream",
          "text": "\t자장면: 98.54%\n\t탕수육: 0.45%\n\t짬뽕: 0.13%\n",
          "name": "stdout"
        }
      ]
    }
  ],
  "metadata": {
    "kernelspec": {
      "name": "python3",
      "display_name": "Python 3",
      "language": "python"
    },
    "language_info": {
      "mimetype": "text/x-python",
      "nbconvert_exporter": "python",
      "name": "python",
      "pygments_lexer": "ipython3",
      "version": "3.5.4",
      "file_extension": ".py",
      "codemirror_mode": {
        "version": 3,
        "name": "ipython"
      }
    }
  },
  "nbformat": 4,
  "nbformat_minor": 2
}